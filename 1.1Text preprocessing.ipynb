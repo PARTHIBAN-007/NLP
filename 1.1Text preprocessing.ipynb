{
 "cells": [
  {
   "cell_type": "markdown",
   "metadata": {},
   "source": [
    "<div style=\"padding:10px; color:#ffff; font-size:20px;\">Text processing refers to the analysis and manipulation of textual data to derive useful information or prepare it for further processing.</div>"
   ]
  },
  {
   "cell_type": "markdown",
   "metadata": {},
   "source": [
    "### <div style=\"color:#ffffff; background-color:#666666; padding:15px; border-radius:25px; text-align:center;\">Text LowerCase</div>\n"
   ]
  },
  {
   "cell_type": "code",
   "execution_count": 4,
   "metadata": {},
   "outputs": [
    {
     "name": "stdout",
     "output_type": "stream",
     "text": [
      "hey, did you know that the summer break is coming? amazing right!! it's only 5 more days!!\n"
     ]
    }
   ],
   "source": [
    "#Lowercasing: Convert all text to lowercase for uniformity.\n",
    "def text_lowercase(text):\n",
    "    return text.lower()\n",
    "\n",
    "\n",
    "input_str = \"Hey, did you know that the summer break is coming? Amazing right!! It's only 5 more days!!\"\n",
    "print(text_lowercase(input_str))\n"
   ]
  },
  {
   "cell_type": "markdown",
   "metadata": {},
   "source": [
    "### <div style=\"color:#ffffff; background-color:#666666; padding:15px; border-radius:25px; text-align:center;\">Number Removal</div>"
   ]
  },
  {
   "cell_type": "code",
   "execution_count": 5,
   "metadata": {},
   "outputs": [
    {
     "name": "stdout",
     "output_type": "stream",
     "text": [
      "There are  balls in this bag, and  in the other one.\n"
     ]
    }
   ],
   "source": [
    "import re\n",
    "\n",
    "def remove_numbers(text):\n",
    "    return re.sub(r'\\d+', '', text)\n",
    "\n",
    "input_str = \"There are 3 balls in this bag, and 12 in the other one.\"\n",
    "print(remove_numbers(input_str))\n"
   ]
  },
  {
   "cell_type": "markdown",
   "metadata": {},
   "source": [
    "### <div style=\"color:#ffffff; background-color:#666666; padding:15px; border-radius:25px; text-align:center;\">WORD Tokenization</div>\n"
   ]
  },
  {
   "cell_type": "code",
   "execution_count": 6,
   "metadata": {},
   "outputs": [
    {
     "name": "stderr",
     "output_type": "stream",
     "text": [
      "[nltk_data] Downloading package wordnet to\n",
      "[nltk_data]     C:\\Users\\Parthiban\\AppData\\Roaming\\nltk_data...\n",
      "[nltk_data]   Package wordnet is already up-to-date!\n",
      "[nltk_data] Downloading package punkt_tab to\n",
      "[nltk_data]     C:\\Users\\Parthiban\\AppData\\Roaming\\nltk_data...\n",
      "[nltk_data]   Package punkt_tab is already up-to-date!\n"
     ]
    },
    {
     "data": {
      "text/plain": [
       "True"
      ]
     },
     "execution_count": 6,
     "metadata": {},
     "output_type": "execute_result"
    }
   ],
   "source": [
    "#Tokenization: Split text into words, phrases, or sentences.#\n",
    "\n",
    "import nltk\n",
    "\n",
    "nltk.download(\"wordnet\")\n",
    "nltk.download('punkt_tab')"
   ]
  },
  {
   "cell_type": "code",
   "execution_count": 7,
   "metadata": {},
   "outputs": [
    {
     "name": "stdout",
     "output_type": "stream",
     "text": [
      "['Tokenization', 'is', 'important', 'for', 'NLP', 'tasks', '.']\n"
     ]
    }
   ],
   "source": [
    "from nltk.tokenize import word_tokenize\n",
    "\n",
    "text = \"Tokenization is important for NLP tasks.\"\n",
    "tokens = word_tokenize(text)\n",
    "print(tokens)\n"
   ]
  },
  {
   "cell_type": "markdown",
   "metadata": {},
   "source": [
    "### <div style=\"color:#ffffff; background-color:#666666; padding:15px; border-radius:25px; text-align:center;\">StopWords Removal</div>"
   ]
  },
  {
   "cell_type": "code",
   "execution_count": 8,
   "metadata": {},
   "outputs": [
    {
     "name": "stdout",
     "output_type": "stream",
     "text": [
      "example sentence stop words .\n"
     ]
    }
   ],
   "source": [
    "#Stopword Removal: Remove common words like \"the,\" \"is,\" or \"and\" that may not contribute to meaningful analysis.\n",
    "\n",
    "from nltk.corpus import stopwords\n",
    "from nltk.tokenize import word_tokenize\n",
    "\n",
    "stop_words = set(stopwords.words(\"english\"))\n",
    "text = \"This is an example sentence with some stop words.\"\n",
    "tokenized_text = word_tokenize(text)\n",
    "filtered_text = [word for word in tokenized_text if word.lower() not in stop_words]\n",
    "print(\" \".join(filtered_text))\n"
   ]
  },
  {
   "cell_type": "markdown",
   "metadata": {},
   "source": [
    "### <div style=\"color:#ffffff; background-color:#666666; padding:15px; border-radius:25px; text-align:center;\">Stemming</div>\n"
   ]
  },
  {
   "cell_type": "code",
   "execution_count": 9,
   "metadata": {},
   "outputs": [
    {
     "name": "stdout",
     "output_type": "stream",
     "text": [
      "eating | Stemmed Word : eat\n",
      "eats | Stemmed Word : eat\n",
      "eat | Stemmed Word : eat\n",
      "ate | Stemmed Word : ate\n",
      "adjustable | Stemmed Word : adjust\n",
      "rafting | Stemmed Word : raft\n",
      "ability | Stemmed Word : abil\n",
      "meeting | Stemmed Word : meet\n"
     ]
    }
   ],
   "source": [
    "#Stemming: Reduce words to their root forms (e.g., \"running\" → \"run\").\n",
    "from nltk.stem import PorterStemmer\n",
    "\n",
    "stemmer = PorterStemmer()\n",
    "\n",
    "words = [\"eating\", \"eats\", \"eat\", \"ate\", \"adjustable\", \"rafting\", \"ability\", \"meeting\"]\n",
    "\n",
    "\n",
    "for word in words:\n",
    "    print(f\"{word} | Stemmed Word : {stemmer.stem(word)}\")"
   ]
  },
  {
   "cell_type": "markdown",
   "metadata": {},
   "source": [
    "### <div style=\"color:#ffffff; background-color:#666666; padding:15px; border-radius:25px; text-align:center;\">Lemmatization</div>"
   ]
  },
  {
   "cell_type": "code",
   "execution_count": 10,
   "metadata": {},
   "outputs": [
    {
     "name": "stdout",
     "output_type": "stream",
     "text": [
      "eating | Lemmatized Word : eating\n",
      "eats | Lemmatized Word : eats\n",
      "eat | Lemmatized Word : eat\n",
      "ate | Lemmatized Word : ate\n",
      "adjustable | Lemmatized Word : adjustable\n",
      "rafting | Lemmatized Word : rafting\n",
      "ability | Lemmatized Word : ability\n",
      "meeting | Lemmatized Word : meeting\n"
     ]
    }
   ],
   "source": [
    "#Lemmatization: Convert words to their base dictionary form (e.g., \"running\" → \"run,\" \"better\" → \"good\").\n",
    "from nltk.stem import WordNetLemmatizer\n",
    "\n",
    "lemmatizer = WordNetLemmatizer()\n",
    "\n",
    "words = [\"eating\", \"eats\", \"eat\", \"ate\", \"adjustable\", \"rafting\", \"ability\", \"meeting\"]\n",
    "\n",
    "\n",
    "\n",
    "for word in words:\n",
    "    print(f\"{word} | Lemmatized Word : {lemmatizer.lemmatize(word)}\")\n"
   ]
  },
  {
   "cell_type": "markdown",
   "metadata": {},
   "source": [
    "### <div style=\"color:#ffffff; background-color:#666666; padding:15px; border-radius:25px; text-align:center;\">Text Preprocess Pipeline</div>"
   ]
  },
  {
   "cell_type": "code",
   "execution_count": 11,
   "metadata": {},
   "outputs": [],
   "source": [
    "def text_process(text):\n",
    "    text = text.lower()\n",
    "    text = re.sub(r'^[a-zA-Z0-9]',\" \",text)\n",
    "    #text = re.sub(r'\\d+', '', text) - Number Removal\n",
    "    #text = re.sub(r'[^\\w\\s]', '', text) - Punctuation and Special Characters Removal\n",
    "    text = text.split()\n",
    "    text = [lemmatizer.lemmatize(word) for word in text if word not in stopwords.words(\"english\")]\n",
    "    return \" \".join(text)\n"
   ]
  },
  {
   "cell_type": "code",
   "execution_count": 12,
   "metadata": {},
   "outputs": [
    {
     "data": {
      "text/plain": [
       "'example sentence stop words.'"
      ]
     },
     "execution_count": 12,
     "metadata": {},
     "output_type": "execute_result"
    }
   ],
   "source": [
    "text_process( \"This is an example sentence with some stop words.\")"
   ]
  }
 ],
 "metadata": {
  "kernelspec": {
   "display_name": "base",
   "language": "python",
   "name": "python3"
  },
  "language_info": {
   "codemirror_mode": {
    "name": "ipython",
    "version": 3
   },
   "file_extension": ".py",
   "mimetype": "text/x-python",
   "name": "python",
   "nbconvert_exporter": "python",
   "pygments_lexer": "ipython3",
   "version": "3.12.4"
  }
 },
 "nbformat": 4,
 "nbformat_minor": 2
}
