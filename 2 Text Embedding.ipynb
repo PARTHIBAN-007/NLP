{
 "cells": [
  {
   "cell_type": "markdown",
   "metadata": {},
   "source": [
    "### <div style=\"color:#ffffff; background-color:#666666; padding:15px; border-radius:25px; text-align:center;\">BAG OF WORDS (BOW)</div>"
   ]
  },
  {
   "cell_type": "code",
   "execution_count": 8,
   "metadata": {},
   "outputs": [
    {
     "name": "stdout",
     "output_type": "stream",
     "text": [
      "Vocabulary:['ai' 'amazing' 'branch' 'is' 'language' 'learning' 'love' 'machine'\n",
      " 'natural' 'of' 'processing']\n",
      "BOW : [[0 0 0 0 0 1 1 1 0 0 0]\n",
      " [0 1 0 1 0 1 0 1 0 0 0]\n",
      " [1 0 1 1 1 0 0 0 1 1 1]] \n"
     ]
    }
   ],
   "source": [
    "from sklearn.feature_extraction.text import CountVectorizer\n",
    "\n",
    "\n",
    "corpus = [\n",
    "    \"I love machine learning\",\n",
    "    \"Machine learning is amazing\",\n",
    "    \"Natural language processing is a branch of AI\"\n",
    "]\n",
    "\n",
    "tokenizer = CountVectorizer()\n",
    "\n",
    "bow = tokenizer.fit_transform(corpus)\n",
    "\n",
    "print(f\"Vocabulary:{tokenizer.get_feature_names_out()}\")\n",
    "\n",
    "print(f\"BOW : {bow.toarray()} \")"
   ]
  },
  {
   "cell_type": "markdown",
   "metadata": {},
   "source": [
    "### <div style=\"color:#ffffff; background-color:#666666; padding:15px; border-radius:25px; text-align:center;\">TF-IDF</div>"
   ]
  },
  {
   "cell_type": "code",
   "execution_count": 9,
   "metadata": {},
   "outputs": [
    {
     "name": "stdout",
     "output_type": "stream",
     "text": [
      "Vocabulary:['ai' 'amazing' 'branch' 'is' 'language' 'learning' 'love' 'machine'\n",
      " 'natural' 'of' 'processing']\n",
      "BOW : [[0.         0.         0.         0.         0.         0.51785612\n",
      "  0.68091856 0.51785612 0.         0.         0.        ]\n",
      " [0.         0.60465213 0.         0.45985353 0.         0.45985353\n",
      "  0.         0.45985353 0.         0.         0.        ]\n",
      " [0.38988801 0.         0.38988801 0.29651988 0.38988801 0.\n",
      "  0.         0.         0.38988801 0.38988801 0.38988801]] \n"
     ]
    }
   ],
   "source": [
    "from sklearn.feature_extraction.text import TfidfVectorizer\n",
    "\n",
    "\n",
    "\n",
    "corpus = [\n",
    "    \"I love machine learning\",\n",
    "    \"Machine learning is amazing\",\n",
    "    \"Natural language processing is a branch of AI\"\n",
    "]\n",
    "\n",
    "\n",
    "tfidf = TfidfVectorizer()\n",
    "\n",
    "x_tfidff = tfidf.fit_transform(corpus)\n",
    "\n",
    "print(f\"Vocabulary:{tfidf.get_feature_names_out()}\")\n",
    "\n",
    "print(f\"BOW : {x_tfidff.toarray()} \")\n"
   ]
  },
  {
   "cell_type": "markdown",
   "metadata": {},
   "source": [
    "### <div style=\"color:#ffffff; background-color:#666666; padding:15px; border-radius:25px; text-align:center;\">N-gram</div>"
   ]
  },
  {
   "cell_type": "code",
   "execution_count": 11,
   "metadata": {},
   "outputs": [
    {
     "data": {
      "text/plain": [
       "{'thor': 5, 'hathodawala': 1, 'is': 2, 'looking': 4, 'for': 0, 'job': 3}"
      ]
     },
     "execution_count": 11,
     "metadata": {},
     "output_type": "execute_result"
    }
   ],
   "source": [
    "from sklearn.feature_extraction.text import CountVectorizer\n",
    "\n",
    "v = CountVectorizer()\n",
    "v.fit([\"Thor Hathodawala is looking for a job\"])\n",
    "v.vocabulary_"
   ]
  },
  {
   "cell_type": "code",
   "execution_count": 12,
   "metadata": {},
   "outputs": [
    {
     "data": {
      "text/plain": [
       "{'thor': 9,\n",
       " 'hathodawala': 2,\n",
       " 'is': 4,\n",
       " 'looking': 7,\n",
       " 'for': 0,\n",
       " 'job': 6,\n",
       " 'thor hathodawala': 10,\n",
       " 'hathodawala is': 3,\n",
       " 'is looking': 5,\n",
       " 'looking for': 8,\n",
       " 'for job': 1}"
      ]
     },
     "execution_count": 12,
     "metadata": {},
     "output_type": "execute_result"
    }
   ],
   "source": [
    "v = CountVectorizer(ngram_range=(1,2))\n",
    "v.fit([\"Thor Hathodawala is looking for a job\"])\n",
    "v.vocabulary_\n"
   ]
  },
  {
   "cell_type": "markdown",
   "metadata": {},
   "source": [
    "### <div style=\"color:#ffffff; background-color:#666666; padding:15px; border-radius:25px; text-align:center;\">Word 2 Vec</div>"
   ]
  },
  {
   "cell_type": "code",
   "execution_count": 10,
   "metadata": {},
   "outputs": [
    {
     "name": "stdout",
     "output_type": "stream",
     "text": [
      "[-8.6196875e-03  3.6657380e-03  5.1898835e-03  5.7419385e-03\n",
      "  7.4669183e-03 -6.1676754e-03  1.1056137e-03  6.0472824e-03\n",
      " -2.8400505e-03 -6.1735227e-03 -4.1022300e-04 -8.3689485e-03\n",
      " -5.6000124e-03  7.1045388e-03  3.3525396e-03  7.2256695e-03\n",
      "  6.8002474e-03  7.5307419e-03 -3.7891543e-03 -5.6180597e-04\n",
      "  2.3483764e-03 -4.5190323e-03  8.3887316e-03 -9.8581640e-03\n",
      "  6.7646410e-03  2.9144168e-03 -4.9328315e-03  4.3981876e-03\n",
      " -1.7395747e-03  6.7113843e-03  9.9648498e-03 -4.3624435e-03\n",
      " -5.9933780e-04 -5.6956373e-03  3.8508223e-03  2.7866268e-03\n",
      "  6.8910765e-03  6.1010956e-03  9.5384968e-03  9.2734173e-03\n",
      "  7.8980681e-03 -6.9895042e-03 -9.1558648e-03 -3.5575271e-04\n",
      " -3.0998408e-03  7.8943167e-03  5.9385742e-03 -1.5456629e-03\n",
      "  1.5109634e-03  1.7900408e-03  7.8175711e-03 -9.5101865e-03\n",
      " -2.0553112e-04  3.4691966e-03 -9.3897223e-04  8.3817719e-03\n",
      "  9.0107834e-03  6.5365066e-03 -7.1162102e-04  7.7104042e-03\n",
      " -8.5343346e-03  3.2071066e-03 -4.6379971e-03 -5.0889552e-03\n",
      "  3.5896183e-03  5.3703394e-03  7.7695143e-03 -5.7665063e-03\n",
      "  7.4333609e-03  6.6254963e-03 -3.7098003e-03 -8.7456414e-03\n",
      "  5.4374672e-03  6.5097557e-03 -7.8755023e-04 -6.7098560e-03\n",
      " -7.0859254e-03 -2.4970602e-03  5.1432536e-03 -3.6652375e-03\n",
      " -9.3700597e-03  3.8267397e-03  4.8844791e-03 -6.4285635e-03\n",
      "  1.2085581e-03 -2.0748770e-03  2.4403334e-05 -9.8835090e-03\n",
      "  2.6920044e-03 -4.7501065e-03  1.0876465e-03 -1.5762246e-03\n",
      "  2.1966731e-03 -7.8815762e-03 -2.7171839e-03  2.6631986e-03\n",
      "  5.3466819e-03 -2.3915148e-03 -9.5100943e-03  4.5058788e-03]\n"
     ]
    }
   ],
   "source": [
    "from gensim.models import Word2Vec\n",
    "\n",
    "sentences = [[\"the\", \"cat\", \"sat\", \"on\", \"the\", \"mat\"], \n",
    "             [\"the\", \"dog\", \"barked\", \"at\", \"the\", \"cat\"]]\n",
    "\n",
    "model = Word2Vec(sentences, vector_size=100, window=5, sg=1, min_count=1) \n",
    "\n",
    "vector = model.wv['cat']\n",
    "print(vector)\n"
   ]
  },
  {
   "cell_type": "markdown",
   "metadata": {},
   "source": [
    "### <div style=\"color:#ffffff; background-color:#666666; padding:15px; border-radius:25px; text-align:center;\">Fast Text</div>"
   ]
  },
  {
   "cell_type": "code",
   "execution_count": 13,
   "metadata": {},
   "outputs": [
    {
     "data": {
      "text/plain": [
       "[['I', 'love', 'machine', 'learning'],\n",
       " ['Machine', 'learning', 'is', 'amazing'],\n",
       " ['Natural', 'language', 'processing', 'is', 'a', 'branch', 'of', 'AI']]"
      ]
     },
     "execution_count": 13,
     "metadata": {},
     "output_type": "execute_result"
    }
   ],
   "source": [
    "from nltk.tokenize import word_tokenize\n",
    "\n",
    "\n",
    "\n",
    "corpus = [\n",
    "    \"I love machine learning\",\n",
    "    \"Machine learning is amazing\",\n",
    "    \"Natural language processing is a branch of AI\"\n",
    "]\n",
    "\n",
    "tokenized_corpus = [word_tokenize(sentence) for sentence in corpus]\n",
    "tokenized_corpus"
   ]
  },
  {
   "cell_type": "code",
   "execution_count": 14,
   "metadata": {},
   "outputs": [
    {
     "name": "stdout",
     "output_type": "stream",
     "text": [
      "FastText Vector for 'machine': [-8.5251615e-04  6.6248013e-04 -1.0688220e-03  1.4801096e-03\n",
      "  3.1720767e-05  2.7183983e-03 -9.3242043e-04  3.1099361e-03\n",
      " -3.1829088e-03  5.1336718e-04 -2.6115368e-03  1.1785015e-03\n",
      "  3.9462773e-03 -2.6377008e-04  1.7432423e-03  2.4502322e-03\n",
      " -1.2668801e-03  2.4790016e-03  4.2262063e-03 -6.6087814e-04\n",
      " -2.9847084e-03 -2.3022052e-03  3.8520489e-03 -1.0604841e-03\n",
      " -9.5083000e-04  2.1440606e-03 -2.0342388e-03 -2.2944824e-03\n",
      "  4.0875375e-04  1.7701256e-03 -2.3051507e-03 -2.4769304e-03\n",
      "  3.2704698e-03 -1.9230052e-03  5.6283148e-03  3.4627991e-03\n",
      "  2.0537465e-03  2.9231005e-03 -3.7107691e-03  9.2501525e-04\n",
      " -1.8491029e-03  1.0471263e-03  1.1689707e-03 -5.5998205e-03\n",
      "  3.2195819e-03 -6.2687746e-03 -9.3224959e-04 -2.7673056e-03\n",
      "  1.8863678e-03 -5.6463005e-03]\n",
      "FastText Vector for out-of-vocabulary word 'machining': [ 3.5239213e-05  7.6757208e-04 -3.8392941e-04 -8.3175261e-04\n",
      " -3.4603525e-03  2.2432844e-03 -3.4658072e-04  4.2644115e-03\n",
      " -2.3674250e-03  1.7362523e-04 -2.4304190e-03  6.7751273e-04\n",
      "  9.8829041e-04  2.2657812e-03  2.8659447e-04  1.8970401e-03\n",
      " -7.9984183e-04  4.8050783e-03  6.8923589e-03 -8.1246544e-04\n",
      " -2.0737112e-03 -2.6794160e-03 -1.1583377e-03  1.0045768e-03\n",
      " -1.9999163e-03  3.4343393e-03  1.7691188e-04 -4.5147045e-03\n",
      "  2.5249138e-03  2.2890223e-03 -7.3080638e-04 -1.0562419e-03\n",
      "  2.3425079e-03 -4.7006970e-04  1.4280733e-03  4.0562460e-03\n",
      " -9.1734703e-04  3.0346070e-03 -1.2754130e-03  6.8098243e-04\n",
      " -7.2666287e-04  3.7555521e-05  4.5588226e-03 -4.4613555e-03\n",
      "  1.8720682e-03 -3.4990094e-03 -1.1455201e-03 -9.3412143e-04\n",
      "  2.7854822e-04 -2.9317781e-03]\n"
     ]
    }
   ],
   "source": [
    "from gensim.models import FastText\n",
    "\n",
    "fasttext_model = FastText(sentences=tokenized_corpus, vector_size=50, window=3, min_count=1, sg=1, workers=4)\n",
    "\n",
    "print(\"FastText Vector for 'machine':\", fasttext_model.wv['machine'])\n",
    "print(\"FastText Vector for out-of-vocabulary word 'machining':\", fasttext_model.wv['machining'])"
   ]
  }
 ],
 "metadata": {
  "kernelspec": {
   "display_name": "base",
   "language": "python",
   "name": "python3"
  },
  "language_info": {
   "codemirror_mode": {
    "name": "ipython",
    "version": 3
   },
   "file_extension": ".py",
   "mimetype": "text/x-python",
   "name": "python",
   "nbconvert_exporter": "python",
   "pygments_lexer": "ipython3",
   "version": "3.12.4"
  }
 },
 "nbformat": 4,
 "nbformat_minor": 2
}
