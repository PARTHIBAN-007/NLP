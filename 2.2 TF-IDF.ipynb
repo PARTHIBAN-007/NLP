{
 "cells": [
  {
   "cell_type": "markdown",
   "metadata": {},
   "source": [
    "# Bag of Words"
   ]
  },
  {
   "cell_type": "code",
   "execution_count": 2,
   "metadata": {},
   "outputs": [
    {
     "name": "stdout",
     "output_type": "stream",
     "text": [
      "Vocabulary:['ai' 'amazing' 'branch' 'is' 'language' 'learning' 'love' 'machine'\n",
      " 'natural' 'of' 'processing']\n",
      "BOW : [[0.         0.         0.         0.         0.         0.51785612\n",
      "  0.68091856 0.51785612 0.         0.         0.        ]\n",
      " [0.         0.60465213 0.         0.45985353 0.         0.45985353\n",
      "  0.         0.45985353 0.         0.         0.        ]\n",
      " [0.38988801 0.         0.38988801 0.29651988 0.38988801 0.\n",
      "  0.         0.         0.38988801 0.38988801 0.38988801]] \n"
     ]
    }
   ],
   "source": [
    "from sklearn.feature_extraction.text import TfidfVectorizer\n",
    "\n",
    "\n",
    "\n",
    "corpus = [\n",
    "    \"I love machine learning\",\n",
    "    \"Machine learning is amazing\",\n",
    "    \"Natural language processing is a branch of AI\"\n",
    "]\n",
    "\n",
    "\n",
    "tfidf = TfidfVectorizer()\n",
    "\n",
    "x_tfidff = tfidf.fit_transform(corpus)\n",
    "\n",
    "print(f\"Vocabulary:{tfidf.get_feature_names_out()}\")\n",
    "\n",
    "print(f\"BOW : {x_tfidff.toarray()} \")\n"
   ]
  }
 ],
 "metadata": {
  "kernelspec": {
   "display_name": "base",
   "language": "python",
   "name": "python3"
  },
  "language_info": {
   "codemirror_mode": {
    "name": "ipython",
    "version": 3
   },
   "file_extension": ".py",
   "mimetype": "text/x-python",
   "name": "python",
   "nbconvert_exporter": "python",
   "pygments_lexer": "ipython3",
   "version": "3.12.4"
  }
 },
 "nbformat": 4,
 "nbformat_minor": 2
}
