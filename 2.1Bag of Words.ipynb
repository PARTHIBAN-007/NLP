{
 "cells": [
  {
   "cell_type": "markdown",
   "metadata": {},
   "source": [
    "# BAG OF WORDS (BOW)"
   ]
  },
  {
   "cell_type": "code",
   "execution_count": 1,
   "metadata": {},
   "outputs": [
    {
     "name": "stdout",
     "output_type": "stream",
     "text": [
      "Vocabulary:['ai' 'amazing' 'branch' 'is' 'language' 'learning' 'love' 'machine'\n",
      " 'natural' 'of' 'processing']\n",
      "BOW : [[0 0 0 0 0 1 1 1 0 0 0]\n",
      " [0 1 0 1 0 1 0 1 0 0 0]\n",
      " [1 0 1 1 1 0 0 0 1 1 1]] \n"
     ]
    }
   ],
   "source": [
    "from sklearn.feature_extraction.text import CountVectorizer\n",
    "\n",
    "\n",
    "corpus = [\n",
    "    \"I love machine learning\",\n",
    "    \"Machine learning is amazing\",\n",
    "    \"Natural language processing is a branch of AI\"\n",
    "]\n",
    "\n",
    "tokenizer = CountVectorizer()\n",
    "\n",
    "\n",
    "bow = tokenizer.fit_transform(corpus)\n",
    "\n",
    "print(f\"Vocabulary:{tokenizer.get_feature_names_out()}\")\n",
    "\n",
    "print(f\"BOW : {bow.toarray()} \")"
   ]
  }
 ],
 "metadata": {
  "kernelspec": {
   "display_name": "base",
   "language": "python",
   "name": "python3"
  },
  "language_info": {
   "codemirror_mode": {
    "name": "ipython",
    "version": 3
   },
   "file_extension": ".py",
   "mimetype": "text/x-python",
   "name": "python",
   "nbconvert_exporter": "python",
   "pygments_lexer": "ipython3",
   "version": "3.12.4"
  }
 },
 "nbformat": 4,
 "nbformat_minor": 2
}
