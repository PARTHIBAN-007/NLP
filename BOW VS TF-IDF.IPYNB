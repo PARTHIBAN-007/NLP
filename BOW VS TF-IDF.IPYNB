{
 "cells": [
  {
   "cell_type": "markdown",
   "metadata": {},
   "source": [
    "# BAG OF WORDS (BOW)"
   ]
  },
  {
   "cell_type": "code",
   "execution_count": 8,
   "metadata": {},
   "outputs": [
    {
     "name": "stdout",
     "output_type": "stream",
     "text": [
      "Vocabulary:['cat' 'dog' 'is' 'mat' 'on' 'sat' 'sitting' 'the']\n",
      "BOW : [[1 0 0 1 1 1 0 2]\n",
      " [0 1 0 1 1 1 0 2]\n",
      " [1 0 1 1 1 0 1 2]] \n"
     ]
    }
   ],
   "source": [
    "from sklearn.feature_extraction.text import CountVectorizer\n",
    "\n",
    "corpus = [\n",
    "    'The cat sat on the mat',\n",
    "    'The dog sat on the mat',\n",
    "    'The cat is sitting on the mat'\n",
    "]\n",
    "\n",
    "\n",
    "tokenizer = CountVectorizer()\n",
    "\n",
    "\n",
    "bow = tokenizer.fit_transform(corpus)\n",
    "\n",
    "print(f\"Vocabulary:{tokenizer.get_feature_names_out()}\")\n",
    "\n",
    "print(f\"BOW : {bow.toarray()} \")"
   ]
  },
  {
   "cell_type": "markdown",
   "metadata": {},
   "source": [
    "# TF_IDF"
   ]
  },
  {
   "cell_type": "markdown",
   "metadata": {},
   "source": [
    "$$ \\text{TF}(t, d) = \\frac{{f_{t, d}}}{{\\sum_{t’ \\in d} f_{t’, d}}} $$\n",
    "\n",
    "\n",
    "The formula for IDF is: $$ \\text{IDF}(t, D) = \\log \\left( \\frac{|D|}{|{d \\in D : t \\in d}|} \\right) $$ where:\n",
    "(|D|) is the total number of documents in the corpus.\n",
    "($${d \\in D : t \\in d}$$) is the number of documents where term (t) appears.\n",
    "\n",
    "\n",
    "$$\\text{TF-IDF}(t, d, D) = \\text{TF}(t, d) \\cdot \\text{IDF}(t, D)$$\n"
   ]
  },
  {
   "cell_type": "code",
   "execution_count": 10,
   "metadata": {},
   "outputs": [
    {
     "name": "stdout",
     "output_type": "stream",
     "text": [
      "Vocabulary:['cat' 'dog' 'is' 'mat' 'on' 'sat' 'sitting' 'the']\n",
      "BOW : [[0.42187916 0.         0.         0.32762681 0.32762681 0.42187916\n",
      "  0.         0.65525361]\n",
      " [0.         0.52189879 0.         0.30824183 0.30824183 0.39691748\n",
      "  0.         0.61648367]\n",
      " [0.35187798 0.         0.46267726 0.27326464 0.27326464 0.\n",
      "  0.46267726 0.54652929]] \n"
     ]
    }
   ],
   "source": [
    "from sklearn.feature_extraction.text import TfidfVectorizer\n",
    "tfidf = TfidfVectorizer()\n",
    "\n",
    "x_tfidff = tfidf.fit_transform(corpus)\n",
    "\n",
    "print(f\"Vocabulary:{tfidf.get_feature_names_out()}\")\n",
    "\n",
    "print(f\"BOW : {x_tfidff.toarray()} \")\n"
   ]
  }
 ],
 "metadata": {
  "kernelspec": {
   "display_name": "base",
   "language": "python",
   "name": "python3"
  },
  "language_info": {
   "codemirror_mode": {
    "name": "ipython",
    "version": 3
   },
   "file_extension": ".py",
   "mimetype": "text/x-python",
   "name": "python",
   "nbconvert_exporter": "python",
   "pygments_lexer": "ipython3",
   "version": "3.12.4"
  }
 },
 "nbformat": 4,
 "nbformat_minor": 2
}
